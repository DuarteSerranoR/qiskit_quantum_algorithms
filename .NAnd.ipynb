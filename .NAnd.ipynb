{
 "cells": [
  {
   "cell_type": "code",
   "execution_count": 3,
   "metadata": {},
   "outputs": [
    {
     "name": "stdout",
     "output_type": "stream",
     "text": [
      "NAND with inputs 0 0 gives output 1\n"
     ]
    },
    {
     "data": {
      "text/html": [
       "<pre style=\"word-wrap: normal;white-space: pre;background: #fff0;line-height: 1.1;font-family: &quot;Courier New&quot;,Courier,monospace\">           ░            ░    \n",
       "q_0: ─|0>──░───■────────░────\n",
       "           ░   │        ░    \n",
       "q_1: ─|0>──░───■────────░────\n",
       "           ░ ┌─┴─┐┌───┐ ░ ┌─┐\n",
       "q_2: ─|0>──░─┤ X ├┤ X ├─░─┤M├\n",
       "           ░ └───┘└───┘ ░ └╥┘\n",
       "c: 1/══════════════════════╩═\n",
       "                           0 </pre>"
      ],
      "text/plain": [
       "           ░            ░    \n",
       "q_0: ─|0>──░───■────────░────\n",
       "           ░   │        ░    \n",
       "q_1: ─|0>──░───■────────░────\n",
       "           ░ ┌─┴─┐┌───┐ ░ ┌─┐\n",
       "q_2: ─|0>──░─┤ X ├┤ X ├─░─┤M├\n",
       "           ░ └───┘└───┘ ░ └╥┘\n",
       "c: 1/══════════════════════╩═\n",
       "                           0 "
      ]
     },
     "metadata": {},
     "output_type": "display_data"
    },
    {
     "name": "stdout",
     "output_type": "stream",
     "text": [
      "\n",
      "\n",
      "NAND with inputs 0 1 gives output 1\n"
     ]
    },
    {
     "data": {
      "text/html": [
       "<pre style=\"word-wrap: normal;white-space: pre;background: #fff0;line-height: 1.1;font-family: &quot;Courier New&quot;,Courier,monospace\">                ░            ░    \n",
       "q_0: ─|0>───────░───■────────░────\n",
       "          ┌───┐ ░   │        ░    \n",
       "q_1: ─|0>─┤ X ├─░───■────────░────\n",
       "          └───┘ ░ ┌─┴─┐┌───┐ ░ ┌─┐\n",
       "q_2: ─|0>───────░─┤ X ├┤ X ├─░─┤M├\n",
       "                ░ └───┘└───┘ ░ └╥┘\n",
       "c: 1/═══════════════════════════╩═\n",
       "                                0 </pre>"
      ],
      "text/plain": [
       "                ░            ░    \n",
       "q_0: ─|0>───────░───■────────░────\n",
       "          ┌───┐ ░   │        ░    \n",
       "q_1: ─|0>─┤ X ├─░───■────────░────\n",
       "          └───┘ ░ ┌─┴─┐┌───┐ ░ ┌─┐\n",
       "q_2: ─|0>───────░─┤ X ├┤ X ├─░─┤M├\n",
       "                ░ └───┘└───┘ ░ └╥┘\n",
       "c: 1/═══════════════════════════╩═\n",
       "                                0 "
      ]
     },
     "metadata": {},
     "output_type": "display_data"
    },
    {
     "name": "stdout",
     "output_type": "stream",
     "text": [
      "\n",
      "\n",
      "NAND with inputs 1 0 gives output 1\n"
     ]
    },
    {
     "data": {
      "text/html": [
       "<pre style=\"word-wrap: normal;white-space: pre;background: #fff0;line-height: 1.1;font-family: &quot;Courier New&quot;,Courier,monospace\">          ┌───┐ ░            ░    \n",
       "q_0: ─|0>─┤ X ├─░───■────────░────\n",
       "          └───┘ ░   │        ░    \n",
       "q_1: ─|0>───────░───■────────░────\n",
       "                ░ ┌─┴─┐┌───┐ ░ ┌─┐\n",
       "q_2: ─|0>───────░─┤ X ├┤ X ├─░─┤M├\n",
       "                ░ └───┘└───┘ ░ └╥┘\n",
       "c: 1/═══════════════════════════╩═\n",
       "                                0 </pre>"
      ],
      "text/plain": [
       "          ┌───┐ ░            ░    \n",
       "q_0: ─|0>─┤ X ├─░───■────────░────\n",
       "          └───┘ ░   │        ░    \n",
       "q_1: ─|0>───────░───■────────░────\n",
       "                ░ ┌─┴─┐┌───┐ ░ ┌─┐\n",
       "q_2: ─|0>───────░─┤ X ├┤ X ├─░─┤M├\n",
       "                ░ └───┘└───┘ ░ └╥┘\n",
       "c: 1/═══════════════════════════╩═\n",
       "                                0 "
      ]
     },
     "metadata": {},
     "output_type": "display_data"
    },
    {
     "name": "stdout",
     "output_type": "stream",
     "text": [
      "\n",
      "\n",
      "NAND with inputs 1 1 gives output 0\n"
     ]
    },
    {
     "data": {
      "text/html": [
       "<pre style=\"word-wrap: normal;white-space: pre;background: #fff0;line-height: 1.1;font-family: &quot;Courier New&quot;,Courier,monospace\">          ┌───┐ ░            ░    \n",
       "q_0: ─|0>─┤ X ├─░───■────────░────\n",
       "          ├───┤ ░   │        ░    \n",
       "q_1: ─|0>─┤ X ├─░───■────────░────\n",
       "          └───┘ ░ ┌─┴─┐┌───┐ ░ ┌─┐\n",
       "q_2: ─|0>───────░─┤ X ├┤ X ├─░─┤M├\n",
       "                ░ └───┘└───┘ ░ └╥┘\n",
       "c: 1/═══════════════════════════╩═\n",
       "                                0 </pre>"
      ],
      "text/plain": [
       "          ┌───┐ ░            ░    \n",
       "q_0: ─|0>─┤ X ├─░───■────────░────\n",
       "          ├───┤ ░   │        ░    \n",
       "q_1: ─|0>─┤ X ├─░───■────────░────\n",
       "          └───┘ ░ ┌─┴─┐┌───┐ ░ ┌─┐\n",
       "q_2: ─|0>───────░─┤ X ├┤ X ├─░─┤M├\n",
       "                ░ └───┘└───┘ ░ └╥┘\n",
       "c: 1/═══════════════════════════╩═\n",
       "                                0 "
      ]
     },
     "metadata": {},
     "output_type": "display_data"
    },
    {
     "name": "stdout",
     "output_type": "stream",
     "text": [
      "\n",
      "\n"
     ]
    }
   ],
   "source": [
    "from qiskit import *\n",
    "from qiskit.extensions import *\n",
    "from qiskit.tools.visualization import *\n",
    "\n",
    "def NAND(inp1,inp2):\n",
    "    \"\"\"An NAND gate.\n",
    "    \n",
    "    Parameters:\n",
    "        inpt1 (str): Input 1, encoded in qubit 0.\n",
    "        inpt2 (str): Input 2, encoded in qubit 1.\n",
    "        \n",
    "    Returns:\n",
    "        QuantumCircuit: Output NAND circuit.\n",
    "        str: Output value measured from qubit 2.\n",
    "    \"\"\"\n",
    "    qc = QuantumCircuit(3, 1) \n",
    "    qc.reset(range(3))\n",
    "    \n",
    "    if inp1=='1':\n",
    "        qc.x(0)\n",
    "    if inp2=='1':\n",
    "        qc.x(1)\n",
    "    \n",
    "    qc.barrier()\n",
    "    \n",
    "    \n",
    "    # this is where your program for quantum NAND gate goes\n",
    "    qc.ccx(0,1,2) # Toffoli gate\n",
    "    qc.x(2)\n",
    "    \n",
    "    \n",
    "    qc.barrier()\n",
    "    qc.measure(2, 0) # output from qubit 2 is measured\n",
    "  \n",
    "    # We'll run the program on a simulator\n",
    "    backend = Aer.get_backend('aer_simulator')\n",
    "    # Since the output will be deterministic, we can use just a single shot to get it\n",
    "    job = backend.run(qc,shots=1,memory=True)\n",
    "    output = job.result().get_memory()[0]\n",
    "  \n",
    "    return qc, output\n",
    "\n",
    "## Test the function\n",
    "for inp1 in ['0', '1']:\n",
    "    for inp2 in ['0', '1']:\n",
    "        qc, output = NAND(inp1, inp2)\n",
    "        print('NAND with inputs',inp1,inp2,'gives output',output)\n",
    "        display(qc.draw())\n",
    "        print('\\n')"
   ]
  }
 ],
 "metadata": {
  "interpreter": {
   "hash": "cb3102e6e87936f92c0d1d912298bdb381e6867ca35cc4d13dbdcb45e6e61055"
  },
  "kernelspec": {
   "display_name": "Python 3.8.10 ('.venv': venv)",
   "language": "python",
   "name": "python3"
  },
  "language_info": {
   "codemirror_mode": {
    "name": "ipython",
    "version": 3
   },
   "file_extension": ".py",
   "mimetype": "text/x-python",
   "name": "python",
   "nbconvert_exporter": "python",
   "pygments_lexer": "ipython3",
   "version": "3.8.10"
  },
  "orig_nbformat": 4
 },
 "nbformat": 4,
 "nbformat_minor": 2
}
